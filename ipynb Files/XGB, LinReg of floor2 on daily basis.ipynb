{
 "cells": [
  {
   "cell_type": "code",
   "execution_count": 139,
   "id": "bef1bc1d",
   "metadata": {},
   "outputs": [],
   "source": [
    "import pandas as pd\n",
    "import numpy as np\n",
    "import matplotlib.pyplot as plt\n",
    "from statsmodels.tsa.arima_model import ARIMA\n"
   ]
  },
  {
   "cell_type": "code",
   "execution_count": 140,
   "id": "7beae24d",
   "metadata": {},
   "outputs": [
    {
     "data": {
      "text/html": [
       "<div>\n",
       "<style scoped>\n",
       "    .dataframe tbody tr th:only-of-type {\n",
       "        vertical-align: middle;\n",
       "    }\n",
       "\n",
       "    .dataframe tbody tr th {\n",
       "        vertical-align: top;\n",
       "    }\n",
       "\n",
       "    .dataframe thead th {\n",
       "        text-align: right;\n",
       "    }\n",
       "</style>\n",
       "<table border=\"1\" class=\"dataframe\">\n",
       "  <thead>\n",
       "    <tr style=\"text-align: right;\">\n",
       "      <th></th>\n",
       "      <th>z1_AC1(kW)</th>\n",
       "      <th>z1_Light(kW)</th>\n",
       "      <th>z1_Plug(kW)</th>\n",
       "      <th>z1_S1(degC)</th>\n",
       "      <th>z1_S1(RH%)</th>\n",
       "      <th>z1_S1(lux)</th>\n",
       "      <th>z2_AC1(kW)</th>\n",
       "      <th>z2_AC2(kW)</th>\n",
       "      <th>z2_AC3(kW)</th>\n",
       "      <th>z2_AC4(kW)</th>\n",
       "      <th>...</th>\n",
       "      <th>z3_Plug(kW)</th>\n",
       "      <th>z3_S1(degC)</th>\n",
       "      <th>z3_S1(RH%)</th>\n",
       "      <th>z3_S1(lux)</th>\n",
       "      <th>z4_AC1(kW)</th>\n",
       "      <th>z4_Light(kW)</th>\n",
       "      <th>z4_Plug(kW)</th>\n",
       "      <th>z4_S1(degC)</th>\n",
       "      <th>z4_S1(RH%)</th>\n",
       "      <th>z4_S1(lux)</th>\n",
       "    </tr>\n",
       "    <tr>\n",
       "      <th>Date</th>\n",
       "      <th></th>\n",
       "      <th></th>\n",
       "      <th></th>\n",
       "      <th></th>\n",
       "      <th></th>\n",
       "      <th></th>\n",
       "      <th></th>\n",
       "      <th></th>\n",
       "      <th></th>\n",
       "      <th></th>\n",
       "      <th></th>\n",
       "      <th></th>\n",
       "      <th></th>\n",
       "      <th></th>\n",
       "      <th></th>\n",
       "      <th></th>\n",
       "      <th></th>\n",
       "      <th></th>\n",
       "      <th></th>\n",
       "      <th></th>\n",
       "      <th></th>\n",
       "    </tr>\n",
       "  </thead>\n",
       "  <tbody>\n",
       "    <tr>\n",
       "      <th>2018-07-01 00:00:00</th>\n",
       "      <td>0.0</td>\n",
       "      <td>0.01</td>\n",
       "      <td>0.15</td>\n",
       "      <td>28.36</td>\n",
       "      <td>58.93</td>\n",
       "      <td>0.0</td>\n",
       "      <td>1.08</td>\n",
       "      <td>0.0</td>\n",
       "      <td>0.0</td>\n",
       "      <td>0.0</td>\n",
       "      <td>...</td>\n",
       "      <td>0.32</td>\n",
       "      <td>29.30</td>\n",
       "      <td>68.22</td>\n",
       "      <td>0.0</td>\n",
       "      <td>0.0</td>\n",
       "      <td>0.0</td>\n",
       "      <td>0.0</td>\n",
       "      <td>NaN</td>\n",
       "      <td>NaN</td>\n",
       "      <td>NaN</td>\n",
       "    </tr>\n",
       "    <tr>\n",
       "      <th>2018-07-01 00:01:00</th>\n",
       "      <td>0.0</td>\n",
       "      <td>0.01</td>\n",
       "      <td>0.15</td>\n",
       "      <td>28.36</td>\n",
       "      <td>58.91</td>\n",
       "      <td>0.0</td>\n",
       "      <td>1.07</td>\n",
       "      <td>0.0</td>\n",
       "      <td>0.0</td>\n",
       "      <td>0.0</td>\n",
       "      <td>...</td>\n",
       "      <td>0.32</td>\n",
       "      <td>29.30</td>\n",
       "      <td>68.21</td>\n",
       "      <td>0.0</td>\n",
       "      <td>0.0</td>\n",
       "      <td>0.0</td>\n",
       "      <td>0.0</td>\n",
       "      <td>NaN</td>\n",
       "      <td>NaN</td>\n",
       "      <td>NaN</td>\n",
       "    </tr>\n",
       "    <tr>\n",
       "      <th>2018-07-01 00:02:00</th>\n",
       "      <td>0.0</td>\n",
       "      <td>0.01</td>\n",
       "      <td>0.15</td>\n",
       "      <td>28.36</td>\n",
       "      <td>58.94</td>\n",
       "      <td>0.0</td>\n",
       "      <td>0.88</td>\n",
       "      <td>0.0</td>\n",
       "      <td>0.0</td>\n",
       "      <td>0.0</td>\n",
       "      <td>...</td>\n",
       "      <td>0.28</td>\n",
       "      <td>29.29</td>\n",
       "      <td>68.24</td>\n",
       "      <td>0.0</td>\n",
       "      <td>0.0</td>\n",
       "      <td>0.0</td>\n",
       "      <td>0.0</td>\n",
       "      <td>NaN</td>\n",
       "      <td>NaN</td>\n",
       "      <td>NaN</td>\n",
       "    </tr>\n",
       "    <tr>\n",
       "      <th>2018-07-01 00:03:00</th>\n",
       "      <td>0.0</td>\n",
       "      <td>0.01</td>\n",
       "      <td>0.15</td>\n",
       "      <td>28.36</td>\n",
       "      <td>58.94</td>\n",
       "      <td>0.0</td>\n",
       "      <td>1.06</td>\n",
       "      <td>0.0</td>\n",
       "      <td>0.0</td>\n",
       "      <td>0.0</td>\n",
       "      <td>...</td>\n",
       "      <td>0.32</td>\n",
       "      <td>29.29</td>\n",
       "      <td>68.28</td>\n",
       "      <td>0.0</td>\n",
       "      <td>0.0</td>\n",
       "      <td>0.0</td>\n",
       "      <td>0.0</td>\n",
       "      <td>NaN</td>\n",
       "      <td>NaN</td>\n",
       "      <td>NaN</td>\n",
       "    </tr>\n",
       "    <tr>\n",
       "      <th>2018-07-01 00:04:00</th>\n",
       "      <td>0.0</td>\n",
       "      <td>0.01</td>\n",
       "      <td>0.15</td>\n",
       "      <td>28.36</td>\n",
       "      <td>58.94</td>\n",
       "      <td>0.0</td>\n",
       "      <td>1.06</td>\n",
       "      <td>0.0</td>\n",
       "      <td>0.0</td>\n",
       "      <td>0.0</td>\n",
       "      <td>...</td>\n",
       "      <td>0.32</td>\n",
       "      <td>29.29</td>\n",
       "      <td>68.30</td>\n",
       "      <td>0.0</td>\n",
       "      <td>0.0</td>\n",
       "      <td>0.0</td>\n",
       "      <td>0.0</td>\n",
       "      <td>NaN</td>\n",
       "      <td>NaN</td>\n",
       "      <td>NaN</td>\n",
       "    </tr>\n",
       "  </tbody>\n",
       "</table>\n",
       "<p>5 rows × 36 columns</p>\n",
       "</div>"
      ],
      "text/plain": [
       "                     z1_AC1(kW)  z1_Light(kW)  z1_Plug(kW)  z1_S1(degC)  \\\n",
       "Date                                                                      \n",
       "2018-07-01 00:00:00         0.0          0.01         0.15        28.36   \n",
       "2018-07-01 00:01:00         0.0          0.01         0.15        28.36   \n",
       "2018-07-01 00:02:00         0.0          0.01         0.15        28.36   \n",
       "2018-07-01 00:03:00         0.0          0.01         0.15        28.36   \n",
       "2018-07-01 00:04:00         0.0          0.01         0.15        28.36   \n",
       "\n",
       "                     z1_S1(RH%)  z1_S1(lux)  z2_AC1(kW)  z2_AC2(kW)  \\\n",
       "Date                                                                  \n",
       "2018-07-01 00:00:00       58.93         0.0        1.08         0.0   \n",
       "2018-07-01 00:01:00       58.91         0.0        1.07         0.0   \n",
       "2018-07-01 00:02:00       58.94         0.0        0.88         0.0   \n",
       "2018-07-01 00:03:00       58.94         0.0        1.06         0.0   \n",
       "2018-07-01 00:04:00       58.94         0.0        1.06         0.0   \n",
       "\n",
       "                     z2_AC3(kW)  z2_AC4(kW)  ...  z3_Plug(kW)  z3_S1(degC)  \\\n",
       "Date                                         ...                             \n",
       "2018-07-01 00:00:00         0.0         0.0  ...         0.32        29.30   \n",
       "2018-07-01 00:01:00         0.0         0.0  ...         0.32        29.30   \n",
       "2018-07-01 00:02:00         0.0         0.0  ...         0.28        29.29   \n",
       "2018-07-01 00:03:00         0.0         0.0  ...         0.32        29.29   \n",
       "2018-07-01 00:04:00         0.0         0.0  ...         0.32        29.29   \n",
       "\n",
       "                     z3_S1(RH%)  z3_S1(lux)  z4_AC1(kW)  z4_Light(kW)  \\\n",
       "Date                                                                    \n",
       "2018-07-01 00:00:00       68.22         0.0         0.0           0.0   \n",
       "2018-07-01 00:01:00       68.21         0.0         0.0           0.0   \n",
       "2018-07-01 00:02:00       68.24         0.0         0.0           0.0   \n",
       "2018-07-01 00:03:00       68.28         0.0         0.0           0.0   \n",
       "2018-07-01 00:04:00       68.30         0.0         0.0           0.0   \n",
       "\n",
       "                     z4_Plug(kW)  z4_S1(degC)  z4_S1(RH%)  z4_S1(lux)  \n",
       "Date                                                                   \n",
       "2018-07-01 00:00:00          0.0          NaN         NaN         NaN  \n",
       "2018-07-01 00:01:00          0.0          NaN         NaN         NaN  \n",
       "2018-07-01 00:02:00          0.0          NaN         NaN         NaN  \n",
       "2018-07-01 00:03:00          0.0          NaN         NaN         NaN  \n",
       "2018-07-01 00:04:00          0.0          NaN         NaN         NaN  \n",
       "\n",
       "[5 rows x 36 columns]"
      ]
     },
     "execution_count": 140,
     "metadata": {},
     "output_type": "execute_result"
    }
   ],
   "source": [
    "df = pd.read_csv('merged_Floor2.csv', index_col='Date', parse_dates=True)\n",
    "df.head(5)"
   ]
  },
  {
   "cell_type": "code",
   "execution_count": 141,
   "id": "4124b422",
   "metadata": {},
   "outputs": [
    {
     "data": {
      "text/html": [
       "<div>\n",
       "<style scoped>\n",
       "    .dataframe tbody tr th:only-of-type {\n",
       "        vertical-align: middle;\n",
       "    }\n",
       "\n",
       "    .dataframe tbody tr th {\n",
       "        vertical-align: top;\n",
       "    }\n",
       "\n",
       "    .dataframe thead th {\n",
       "        text-align: right;\n",
       "    }\n",
       "</style>\n",
       "<table border=\"1\" class=\"dataframe\">\n",
       "  <thead>\n",
       "    <tr style=\"text-align: right;\">\n",
       "      <th></th>\n",
       "      <th>lights</th>\n",
       "      <th>acs</th>\n",
       "      <th>plug</th>\n",
       "    </tr>\n",
       "  </thead>\n",
       "  <tbody>\n",
       "  </tbody>\n",
       "</table>\n",
       "</div>"
      ],
      "text/plain": [
       "Empty DataFrame\n",
       "Columns: [lights, acs, plug]\n",
       "Index: []"
      ]
     },
     "execution_count": 141,
     "metadata": {},
     "output_type": "execute_result"
    }
   ],
   "source": [
    "final_df=pd.DataFrame(columns=['lights','acs','plug'])\n",
    "final_df"
   ]
  },
  {
   "cell_type": "code",
   "execution_count": 142,
   "id": "982cfafe",
   "metadata": {},
   "outputs": [
    {
     "data": {
      "text/plain": [
       "Index(['z1_AC1(kW)', 'z1_Light(kW)', 'z1_Plug(kW)', 'z1_S1(degC)',\n",
       "       'z1_S1(RH%)', 'z1_S1(lux)', 'z2_AC1(kW)', 'z2_AC2(kW)', 'z2_AC3(kW)',\n",
       "       'z2_AC4(kW)', 'z2_AC5(kW)', 'z2_AC6(kW)', 'z2_AC7(kW)', 'z2_AC8(kW)',\n",
       "       'z2_AC9(kW)', 'z2_AC10(kW)', 'z2_AC11(kW)', 'z2_AC12(kW)',\n",
       "       'z2_AC13(kW)', 'z2_AC14(kW)', 'z2_Light(kW)', 'z2_Plug(kW)',\n",
       "       'z2_S1(degC)', 'z2_S1(RH%)', 'z2_S1(lux)', 'z3_Light(kW)',\n",
       "       'z3_Plug(kW)', 'z3_S1(degC)', 'z3_S1(RH%)', 'z3_S1(lux)', 'z4_AC1(kW)',\n",
       "       'z4_Light(kW)', 'z4_Plug(kW)', 'z4_S1(degC)', 'z4_S1(RH%)',\n",
       "       'z4_S1(lux)'],\n",
       "      dtype='object')"
      ]
     },
     "execution_count": 142,
     "metadata": {},
     "output_type": "execute_result"
    }
   ],
   "source": [
    "df.columns"
   ]
  },
  {
   "cell_type": "code",
   "execution_count": 143,
   "id": "d0069a9d",
   "metadata": {},
   "outputs": [],
   "source": [
    "final_df['lights']=df['z1_Light(kW)']+df['z2_Light(kW)']+df['z3_Light(kW)']+df['z4_Light(kW)']\n",
    "final_df['acs']=df['z1_AC1(kW)']+df['z2_AC1(kW)']+df['z2_AC2(kW)']+df['z2_AC3(kW)']+df['z2_AC4(kW)']+df['z2_AC5(kW)']+df['z2_AC6(kW)']+df['z2_AC7(kW)']+df['z2_AC8(kW)']+df['z2_AC9(kW)']+df['z2_AC10(kW)']+df['z2_AC11(kW)']+df['z2_AC12(kW)']+df['z2_AC13(kW)']+df['z2_AC14(kW)']+df['z4_AC1(kW)']\n",
    "final_df['plug']=df['z1_Plug(kW)']+df['z2_Plug(kW)']+df['z3_Plug(kW)']+df['z4_Plug(kW)']"
   ]
  },
  {
   "cell_type": "code",
   "execution_count": 144,
   "id": "62e59b40",
   "metadata": {},
   "outputs": [],
   "source": [
    "final_df['Power_consumption']=final_df['lights']+final_df['acs']+final_df['plug']\n"
   ]
  },
  {
   "cell_type": "code",
   "execution_count": 145,
   "id": "a327a896",
   "metadata": {},
   "outputs": [],
   "source": [
    "final_df=final_df.fillna(final_df.mean())"
   ]
  },
  {
   "cell_type": "code",
   "execution_count": 146,
   "id": "f66c3c34",
   "metadata": {},
   "outputs": [
    {
     "data": {
      "text/html": [
       "<div>\n",
       "<style scoped>\n",
       "    .dataframe tbody tr th:only-of-type {\n",
       "        vertical-align: middle;\n",
       "    }\n",
       "\n",
       "    .dataframe tbody tr th {\n",
       "        vertical-align: top;\n",
       "    }\n",
       "\n",
       "    .dataframe thead th {\n",
       "        text-align: right;\n",
       "    }\n",
       "</style>\n",
       "<table border=\"1\" class=\"dataframe\">\n",
       "  <thead>\n",
       "    <tr style=\"text-align: right;\">\n",
       "      <th></th>\n",
       "      <th>lights</th>\n",
       "      <th>acs</th>\n",
       "      <th>plug</th>\n",
       "      <th>Power_consumption</th>\n",
       "    </tr>\n",
       "    <tr>\n",
       "      <th>Date</th>\n",
       "      <th></th>\n",
       "      <th></th>\n",
       "      <th></th>\n",
       "      <th></th>\n",
       "    </tr>\n",
       "  </thead>\n",
       "  <tbody>\n",
       "    <tr>\n",
       "      <th>2018-07-01</th>\n",
       "      <td>0.091840</td>\n",
       "      <td>7.352958</td>\n",
       "      <td>0.525667</td>\n",
       "      <td>7.970465</td>\n",
       "    </tr>\n",
       "    <tr>\n",
       "      <th>2018-07-02</th>\n",
       "      <td>7.355410</td>\n",
       "      <td>34.890465</td>\n",
       "      <td>2.509278</td>\n",
       "      <td>44.755153</td>\n",
       "    </tr>\n",
       "    <tr>\n",
       "      <th>2018-07-03</th>\n",
       "      <td>7.417854</td>\n",
       "      <td>32.265833</td>\n",
       "      <td>2.619201</td>\n",
       "      <td>42.302889</td>\n",
       "    </tr>\n",
       "    <tr>\n",
       "      <th>2018-07-04</th>\n",
       "      <td>7.618875</td>\n",
       "      <td>31.681694</td>\n",
       "      <td>2.745785</td>\n",
       "      <td>42.046354</td>\n",
       "    </tr>\n",
       "    <tr>\n",
       "      <th>2018-07-05</th>\n",
       "      <td>7.505743</td>\n",
       "      <td>33.566118</td>\n",
       "      <td>2.498472</td>\n",
       "      <td>43.570333</td>\n",
       "    </tr>\n",
       "    <tr>\n",
       "      <th>...</th>\n",
       "      <td>...</td>\n",
       "      <td>...</td>\n",
       "      <td>...</td>\n",
       "      <td>...</td>\n",
       "    </tr>\n",
       "    <tr>\n",
       "      <th>2019-12-27</th>\n",
       "      <td>6.310729</td>\n",
       "      <td>27.680146</td>\n",
       "      <td>2.151625</td>\n",
       "      <td>36.142500</td>\n",
       "    </tr>\n",
       "    <tr>\n",
       "      <th>2019-12-28</th>\n",
       "      <td>0.232903</td>\n",
       "      <td>5.852451</td>\n",
       "      <td>0.485222</td>\n",
       "      <td>6.570576</td>\n",
       "    </tr>\n",
       "    <tr>\n",
       "      <th>2019-12-29</th>\n",
       "      <td>0.747597</td>\n",
       "      <td>5.970542</td>\n",
       "      <td>0.499299</td>\n",
       "      <td>7.217438</td>\n",
       "    </tr>\n",
       "    <tr>\n",
       "      <th>2019-12-30</th>\n",
       "      <td>0.218007</td>\n",
       "      <td>6.020139</td>\n",
       "      <td>0.483882</td>\n",
       "      <td>6.722028</td>\n",
       "    </tr>\n",
       "    <tr>\n",
       "      <th>2019-12-31</th>\n",
       "      <td>0.166736</td>\n",
       "      <td>6.120007</td>\n",
       "      <td>0.482764</td>\n",
       "      <td>6.769507</td>\n",
       "    </tr>\n",
       "  </tbody>\n",
       "</table>\n",
       "<p>549 rows × 4 columns</p>\n",
       "</div>"
      ],
      "text/plain": [
       "              lights        acs      plug  Power_consumption\n",
       "Date                                                        \n",
       "2018-07-01  0.091840   7.352958  0.525667           7.970465\n",
       "2018-07-02  7.355410  34.890465  2.509278          44.755153\n",
       "2018-07-03  7.417854  32.265833  2.619201          42.302889\n",
       "2018-07-04  7.618875  31.681694  2.745785          42.046354\n",
       "2018-07-05  7.505743  33.566118  2.498472          43.570333\n",
       "...              ...        ...       ...                ...\n",
       "2019-12-27  6.310729  27.680146  2.151625          36.142500\n",
       "2019-12-28  0.232903   5.852451  0.485222           6.570576\n",
       "2019-12-29  0.747597   5.970542  0.499299           7.217438\n",
       "2019-12-30  0.218007   6.020139  0.483882           6.722028\n",
       "2019-12-31  0.166736   6.120007  0.482764           6.769507\n",
       "\n",
       "[549 rows x 4 columns]"
      ]
     },
     "execution_count": 146,
     "metadata": {},
     "output_type": "execute_result"
    }
   ],
   "source": [
    "df1=final_df.resample('D').mean()\n",
    "df1"
   ]
  },
  {
   "cell_type": "code",
   "execution_count": 147,
   "id": "6ff7587f",
   "metadata": {},
   "outputs": [
    {
     "name": "stdout",
     "output_type": "stream",
     "text": [
      "ADF Statistic: -4.626491855128926\n",
      "p-value: 0.00011540009318146421\n",
      "Critical Values: {'1%': -3.4426552678216003, '5%': -2.8669676577777548, '10%': -2.569660749624767}\n"
     ]
    }
   ],
   "source": [
    "from statsmodels.tsa.stattools import adfuller\n",
    "result = adfuller(df1['Power_consumption'])\n",
    "print('ADF Statistic:', result[0])\n",
    "print('p-value:', result[1])\n",
    "print('Critical Values:', result[4])"
   ]
  },
  {
   "cell_type": "code",
   "execution_count": 156,
   "id": "aec84a51",
   "metadata": {},
   "outputs": [
    {
     "data": {
      "text/html": [
       "<div>\n",
       "<style scoped>\n",
       "    .dataframe tbody tr th:only-of-type {\n",
       "        vertical-align: middle;\n",
       "    }\n",
       "\n",
       "    .dataframe tbody tr th {\n",
       "        vertical-align: top;\n",
       "    }\n",
       "\n",
       "    .dataframe thead th {\n",
       "        text-align: right;\n",
       "    }\n",
       "</style>\n",
       "<table border=\"1\" class=\"dataframe\">\n",
       "  <thead>\n",
       "    <tr style=\"text-align: right;\">\n",
       "      <th></th>\n",
       "      <th>lights</th>\n",
       "      <th>acs</th>\n",
       "      <th>plug</th>\n",
       "      <th>Power_consumption</th>\n",
       "    </tr>\n",
       "    <tr>\n",
       "      <th>Date</th>\n",
       "      <th></th>\n",
       "      <th></th>\n",
       "      <th></th>\n",
       "      <th></th>\n",
       "    </tr>\n",
       "  </thead>\n",
       "  <tbody>\n",
       "    <tr>\n",
       "      <th>2018-07-02</th>\n",
       "      <td>7.263569</td>\n",
       "      <td>27.537507</td>\n",
       "      <td>1.983611</td>\n",
       "      <td>36.784687</td>\n",
       "    </tr>\n",
       "    <tr>\n",
       "      <th>2018-07-03</th>\n",
       "      <td>0.062444</td>\n",
       "      <td>-2.624632</td>\n",
       "      <td>0.109924</td>\n",
       "      <td>-2.452264</td>\n",
       "    </tr>\n",
       "    <tr>\n",
       "      <th>2018-07-04</th>\n",
       "      <td>0.201021</td>\n",
       "      <td>-0.584139</td>\n",
       "      <td>0.126583</td>\n",
       "      <td>-0.256535</td>\n",
       "    </tr>\n",
       "    <tr>\n",
       "      <th>2018-07-05</th>\n",
       "      <td>-0.113132</td>\n",
       "      <td>1.884424</td>\n",
       "      <td>-0.247313</td>\n",
       "      <td>1.523979</td>\n",
       "    </tr>\n",
       "    <tr>\n",
       "      <th>2018-07-06</th>\n",
       "      <td>0.008049</td>\n",
       "      <td>2.645944</td>\n",
       "      <td>-0.002458</td>\n",
       "      <td>2.651535</td>\n",
       "    </tr>\n",
       "    <tr>\n",
       "      <th>...</th>\n",
       "      <td>...</td>\n",
       "      <td>...</td>\n",
       "      <td>...</td>\n",
       "      <td>...</td>\n",
       "    </tr>\n",
       "    <tr>\n",
       "      <th>2019-12-27</th>\n",
       "      <td>-0.595472</td>\n",
       "      <td>-0.421451</td>\n",
       "      <td>-0.176646</td>\n",
       "      <td>-1.193569</td>\n",
       "    </tr>\n",
       "    <tr>\n",
       "      <th>2019-12-28</th>\n",
       "      <td>-6.077826</td>\n",
       "      <td>-21.827694</td>\n",
       "      <td>-1.666403</td>\n",
       "      <td>-29.571924</td>\n",
       "    </tr>\n",
       "    <tr>\n",
       "      <th>2019-12-29</th>\n",
       "      <td>0.514694</td>\n",
       "      <td>0.118090</td>\n",
       "      <td>0.014076</td>\n",
       "      <td>0.646861</td>\n",
       "    </tr>\n",
       "    <tr>\n",
       "      <th>2019-12-30</th>\n",
       "      <td>-0.529590</td>\n",
       "      <td>0.049597</td>\n",
       "      <td>-0.015417</td>\n",
       "      <td>-0.495410</td>\n",
       "    </tr>\n",
       "    <tr>\n",
       "      <th>2019-12-31</th>\n",
       "      <td>-0.051271</td>\n",
       "      <td>0.099868</td>\n",
       "      <td>-0.001118</td>\n",
       "      <td>0.047479</td>\n",
       "    </tr>\n",
       "  </tbody>\n",
       "</table>\n",
       "<p>548 rows × 4 columns</p>\n",
       "</div>"
      ],
      "text/plain": [
       "              lights        acs      plug  Power_consumption\n",
       "Date                                                        \n",
       "2018-07-02  7.263569  27.537507  1.983611          36.784687\n",
       "2018-07-03  0.062444  -2.624632  0.109924          -2.452264\n",
       "2018-07-04  0.201021  -0.584139  0.126583          -0.256535\n",
       "2018-07-05 -0.113132   1.884424 -0.247313           1.523979\n",
       "2018-07-06  0.008049   2.645944 -0.002458           2.651535\n",
       "...              ...        ...       ...                ...\n",
       "2019-12-27 -0.595472  -0.421451 -0.176646          -1.193569\n",
       "2019-12-28 -6.077826 -21.827694 -1.666403         -29.571924\n",
       "2019-12-29  0.514694   0.118090  0.014076           0.646861\n",
       "2019-12-30 -0.529590   0.049597 -0.015417          -0.495410\n",
       "2019-12-31 -0.051271   0.099868 -0.001118           0.047479\n",
       "\n",
       "[548 rows x 4 columns]"
      ]
     },
     "execution_count": 156,
     "metadata": {},
     "output_type": "execute_result"
    }
   ],
   "source": [
    "df2 = df1.diff().dropna()\n",
    "df2"
   ]
  },
  {
   "cell_type": "code",
   "execution_count": 157,
   "id": "a1d712fe",
   "metadata": {},
   "outputs": [],
   "source": [
    "import statsmodels.api as sm"
   ]
  },
  {
   "cell_type": "code",
   "execution_count": 158,
   "id": "c9e8832e",
   "metadata": {},
   "outputs": [],
   "source": [
    "model = sm.tsa.arima.ARIMA(df1.Power_consumption, order=(1,1,1))\n",
    "result = model.fit()"
   ]
  },
  {
   "cell_type": "code",
   "execution_count": 159,
   "id": "48e28315",
   "metadata": {},
   "outputs": [
    {
     "name": "stdout",
     "output_type": "stream",
     "text": [
      "                               SARIMAX Results                                \n",
      "==============================================================================\n",
      "Dep. Variable:      Power_consumption   No. Observations:                  549\n",
      "Model:                 ARIMA(1, 1, 1)   Log Likelihood               -2202.642\n",
      "Date:                Thu, 27 Apr 2023   AIC                           4411.284\n",
      "Time:                        15:35:19   BIC                           4424.203\n",
      "Sample:                    07-01-2018   HQIC                          4416.334\n",
      "                         - 12-31-2019                                         \n",
      "Covariance Type:                  opg                                         \n",
      "==============================================================================\n",
      "                 coef    std err          z      P>|z|      [0.025      0.975]\n",
      "------------------------------------------------------------------------------\n",
      "ar.L1          0.3192      0.040      8.054      0.000       0.242       0.397\n",
      "ma.L1         -0.9995      0.080    -12.472      0.000      -1.157      -0.842\n",
      "sigma2       179.6753     22.011      8.163      0.000     136.534     222.816\n",
      "===================================================================================\n",
      "Ljung-Box (L1) (Q):                   7.75   Jarque-Bera (JB):                35.07\n",
      "Prob(Q):                              0.01   Prob(JB):                         0.00\n",
      "Heteroskedasticity (H):               0.93   Skew:                            -0.46\n",
      "Prob(H) (two-sided):                  0.60   Kurtosis:                         2.16\n",
      "===================================================================================\n",
      "\n",
      "Warnings:\n",
      "[1] Covariance matrix calculated using the outer product of gradients (complex-step).\n"
     ]
    }
   ],
   "source": [
    "print(result.summary())"
   ]
  },
  {
   "cell_type": "code",
   "execution_count": 160,
   "id": "03746d0e",
   "metadata": {},
   "outputs": [
    {
     "data": {
      "text/plain": [
       "<AxesSubplot:title={'center':'Density'}, ylabel='Density'>"
      ]
     },
     "execution_count": 160,
     "metadata": {},
     "output_type": "execute_result"
    },
    {
     "data": {
      "image/png": "[encoded data removed]",
      "text/plain": [
       "<Figure size 432x288 with 2 Axes>"
      ]
     },
     "metadata": {
      "needs_background": "light"
     },
     "output_type": "display_data"
    }
   ],
   "source": [
    "residuals = pd.DataFrame(result.resid)\n",
    "fig, ax = plt.subplots(1,2)\n",
    "residuals.plot(title='Residuals', ax=ax[0])\n",
    "residuals.plot(kind='kde', title='Density', ax=ax[1])"
   ]
  },
  {
   "cell_type": "code",
   "execution_count": 161,
   "id": "a4265297",
   "metadata": {},
   "outputs": [],
   "source": [
    "forecast = result.forecast(steps=569)\n",
    "# forecast.values"
   ]
  },
  {
   "cell_type": "code",
   "execution_count": 162,
   "id": "29e4e76a",
   "metadata": {},
   "outputs": [
    {
     "data": {
      "image/png": "[encoded data removed]",
      "text/plain": [
       "<Figure size 432x288 with 1 Axes>"
      ]
     },
     "metadata": {
      "needs_background": "light"
     },
     "output_type": "display_data"
    }
   ],
   "source": [
    "plt.plot(forecast.index, forecast.values, color='red', label='Predictions')\n",
    "plt.plot(df1.index, df1.Power_consumption, color='blue', label='Actual')\n",
    "plt.legend()\n",
    "plt.show()"
   ]
  },
  {
   "cell_type": "code",
   "execution_count": 163,
   "id": "586ad4af",
   "metadata": {},
   "outputs": [
    {
     "ename": "ValueError",
     "evalue": "Found input variables with inconsistent numbers of samples: [569, 549]",
     "output_type": "error",
     "traceback": [
      "\u001b[1;31m---------------------------------------------------------------------------\u001b[0m",
      "\u001b[1;31mValueError\u001b[0m                                Traceback (most recent call last)",
      "Input \u001b[1;32mIn [163]\u001b[0m, in \u001b[0;36m<cell line: 4>\u001b[1;34m()\u001b[0m\n\u001b[0;32m      2\u001b[0m \u001b[38;5;28;01mfrom\u001b[39;00m \u001b[38;5;21;01mmath\u001b[39;00m \u001b[38;5;28;01mimport\u001b[39;00m sqrt\n\u001b[0;32m      3\u001b[0m \u001b[38;5;66;03m#test['z2_AC1(kW)'].mean()\u001b[39;00m\n\u001b[1;32m----> 4\u001b[0m rmse\u001b[38;5;241m=\u001b[39msqrt(\u001b[43mmean_squared_error\u001b[49m\u001b[43m(\u001b[49m\u001b[43mforecast\u001b[49m\u001b[43m,\u001b[49m\u001b[43mdf1\u001b[49m\u001b[43m[\u001b[49m\u001b[38;5;124;43m'\u001b[39;49m\u001b[38;5;124;43mPower_consumption\u001b[39;49m\u001b[38;5;124;43m'\u001b[39;49m\u001b[43m]\u001b[49m\u001b[43m)\u001b[49m)\n\u001b[0;32m      5\u001b[0m \u001b[38;5;28mprint\u001b[39m(rmse)\n",
      "File \u001b[1;32m~\\anaconda3\\lib\\site-packages\\sklearn\\metrics\\_regression.py:438\u001b[0m, in \u001b[0;36mmean_squared_error\u001b[1;34m(y_true, y_pred, sample_weight, multioutput, squared)\u001b[0m\n\u001b[0;32m    378\u001b[0m \u001b[38;5;28;01mdef\u001b[39;00m \u001b[38;5;21mmean_squared_error\u001b[39m(\n\u001b[0;32m    379\u001b[0m     y_true, y_pred, \u001b[38;5;241m*\u001b[39m, sample_weight\u001b[38;5;241m=\u001b[39m\u001b[38;5;28;01mNone\u001b[39;00m, multioutput\u001b[38;5;241m=\u001b[39m\u001b[38;5;124m\"\u001b[39m\u001b[38;5;124muniform_average\u001b[39m\u001b[38;5;124m\"\u001b[39m, squared\u001b[38;5;241m=\u001b[39m\u001b[38;5;28;01mTrue\u001b[39;00m\n\u001b[0;32m    380\u001b[0m ):\n\u001b[0;32m    381\u001b[0m     \u001b[38;5;124;03m\"\"\"Mean squared error regression loss.\u001b[39;00m\n\u001b[0;32m    382\u001b[0m \n\u001b[0;32m    383\u001b[0m \u001b[38;5;124;03m    Read more in the :ref:`User Guide <mean_squared_error>`.\u001b[39;00m\n\u001b[1;32m   (...)\u001b[0m\n\u001b[0;32m    436\u001b[0m \u001b[38;5;124;03m    0.825...\u001b[39;00m\n\u001b[0;32m    437\u001b[0m \u001b[38;5;124;03m    \"\"\"\u001b[39;00m\n\u001b[1;32m--> 438\u001b[0m     y_type, y_true, y_pred, multioutput \u001b[38;5;241m=\u001b[39m \u001b[43m_check_reg_targets\u001b[49m\u001b[43m(\u001b[49m\n\u001b[0;32m    439\u001b[0m \u001b[43m        \u001b[49m\u001b[43my_true\u001b[49m\u001b[43m,\u001b[49m\u001b[43m \u001b[49m\u001b[43my_pred\u001b[49m\u001b[43m,\u001b[49m\u001b[43m \u001b[49m\u001b[43mmultioutput\u001b[49m\n\u001b[0;32m    440\u001b[0m \u001b[43m    \u001b[49m\u001b[43m)\u001b[49m\n\u001b[0;32m    441\u001b[0m     check_consistent_length(y_true, y_pred, sample_weight)\n\u001b[0;32m    442\u001b[0m     output_errors \u001b[38;5;241m=\u001b[39m np\u001b[38;5;241m.\u001b[39maverage((y_true \u001b[38;5;241m-\u001b[39m y_pred) \u001b[38;5;241m*\u001b[39m\u001b[38;5;241m*\u001b[39m \u001b[38;5;241m2\u001b[39m, axis\u001b[38;5;241m=\u001b[39m\u001b[38;5;241m0\u001b[39m, weights\u001b[38;5;241m=\u001b[39msample_weight)\n",
      "File \u001b[1;32m~\\anaconda3\\lib\\site-packages\\sklearn\\metrics\\_regression.py:94\u001b[0m, in \u001b[0;36m_check_reg_targets\u001b[1;34m(y_true, y_pred, multioutput, dtype)\u001b[0m\n\u001b[0;32m     60\u001b[0m \u001b[38;5;28;01mdef\u001b[39;00m \u001b[38;5;21m_check_reg_targets\u001b[39m(y_true, y_pred, multioutput, dtype\u001b[38;5;241m=\u001b[39m\u001b[38;5;124m\"\u001b[39m\u001b[38;5;124mnumeric\u001b[39m\u001b[38;5;124m\"\u001b[39m):\n\u001b[0;32m     61\u001b[0m     \u001b[38;5;124;03m\"\"\"Check that y_true and y_pred belong to the same regression task.\u001b[39;00m\n\u001b[0;32m     62\u001b[0m \n\u001b[0;32m     63\u001b[0m \u001b[38;5;124;03m    Parameters\u001b[39;00m\n\u001b[1;32m   (...)\u001b[0m\n\u001b[0;32m     92\u001b[0m \u001b[38;5;124;03m        the dtype argument passed to check_array.\u001b[39;00m\n\u001b[0;32m     93\u001b[0m \u001b[38;5;124;03m    \"\"\"\u001b[39;00m\n\u001b[1;32m---> 94\u001b[0m     \u001b[43mcheck_consistent_length\u001b[49m\u001b[43m(\u001b[49m\u001b[43my_true\u001b[49m\u001b[43m,\u001b[49m\u001b[43m \u001b[49m\u001b[43my_pred\u001b[49m\u001b[43m)\u001b[49m\n\u001b[0;32m     95\u001b[0m     y_true \u001b[38;5;241m=\u001b[39m check_array(y_true, ensure_2d\u001b[38;5;241m=\u001b[39m\u001b[38;5;28;01mFalse\u001b[39;00m, dtype\u001b[38;5;241m=\u001b[39mdtype)\n\u001b[0;32m     96\u001b[0m     y_pred \u001b[38;5;241m=\u001b[39m check_array(y_pred, ensure_2d\u001b[38;5;241m=\u001b[39m\u001b[38;5;28;01mFalse\u001b[39;00m, dtype\u001b[38;5;241m=\u001b[39mdtype)\n",
      "File \u001b[1;32m~\\anaconda3\\lib\\site-packages\\sklearn\\utils\\validation.py:332\u001b[0m, in \u001b[0;36mcheck_consistent_length\u001b[1;34m(*arrays)\u001b[0m\n\u001b[0;32m    330\u001b[0m uniques \u001b[38;5;241m=\u001b[39m np\u001b[38;5;241m.\u001b[39munique(lengths)\n\u001b[0;32m    331\u001b[0m \u001b[38;5;28;01mif\u001b[39;00m \u001b[38;5;28mlen\u001b[39m(uniques) \u001b[38;5;241m>\u001b[39m \u001b[38;5;241m1\u001b[39m:\n\u001b[1;32m--> 332\u001b[0m     \u001b[38;5;28;01mraise\u001b[39;00m \u001b[38;5;167;01mValueError\u001b[39;00m(\n\u001b[0;32m    333\u001b[0m         \u001b[38;5;124m\"\u001b[39m\u001b[38;5;124mFound input variables with inconsistent numbers of samples: \u001b[39m\u001b[38;5;132;01m%r\u001b[39;00m\u001b[38;5;124m\"\u001b[39m\n\u001b[0;32m    334\u001b[0m         \u001b[38;5;241m%\u001b[39m [\u001b[38;5;28mint\u001b[39m(l) \u001b[38;5;28;01mfor\u001b[39;00m l \u001b[38;5;129;01min\u001b[39;00m lengths]\n\u001b[0;32m    335\u001b[0m     )\n",
      "\u001b[1;31mValueError\u001b[0m: Found input variables with inconsistent numbers of samples: [569, 549]"
     ]
    }
   ],
   "source": [
    "from sklearn.metrics import mean_squared_error\n",
    "from math import sqrt\n",
    "#test['z2_AC1(kW)'].mean()\n",
    "rmse=sqrt(mean_squared_error(forecast,df1['Power_consumption']))\n",
    "print(rmse)"
   ]
  },
  {
   "cell_type": "code",
   "execution_count": 164,
   "id": "6b8bc0f3",
   "metadata": {},
   "outputs": [],
   "source": [
    "df1['year'] = df1.index.year\n",
    "df1['month'] = df1.index.month\n",
    "df1['day'] = df1.index.day"
   ]
  },
  {
   "cell_type": "code",
   "execution_count": 165,
   "id": "b6738665",
   "metadata": {},
   "outputs": [],
   "source": [
    "from sklearn.linear_model import LinearRegression\n",
    "from sklearn.metrics import mean_squared_error"
   ]
  },
  {
   "cell_type": "code",
   "execution_count": 166,
   "id": "278a1018",
   "metadata": {},
   "outputs": [],
   "source": [
    "train_size = int(len(df1) * 0.8)\n",
    "train_data, test_data = df1[:train_size], df1[train_size:]\n"
   ]
  },
  {
   "cell_type": "code",
   "execution_count": 167,
   "id": "8a3336a2",
   "metadata": {},
   "outputs": [],
   "source": [
    "X_train = train_data[['year', 'month', 'day']]\n",
    "y_train = train_data['Power_consumption']\n",
    "X_test = test_data[['year', 'month', 'day']]\n",
    "y_test = test_data['Power_consumption']"
   ]
  },
  {
   "cell_type": "code",
   "execution_count": 168,
   "id": "d91a712a",
   "metadata": {},
   "outputs": [
    {
     "data": {
      "text/plain": [
       "LinearRegression()"
      ]
     },
     "execution_count": 168,
     "metadata": {},
     "output_type": "execute_result"
    }
   ],
   "source": [
    "model1 = LinearRegression()\n",
    "model1.fit(X_train, y_train)"
   ]
  },
  {
   "cell_type": "code",
   "execution_count": 169,
   "id": "6bc8d3f2",
   "metadata": {},
   "outputs": [
    {
     "name": "stdout",
     "output_type": "stream",
     "text": [
      "Mean squared error: 187.31\n"
     ]
    }
   ],
   "source": [
    "y_pred = model1.predict(X_test)\n",
    "mse = mean_squared_error(y_test, y_pred)\n",
    "print('Mean squared error: {:.2f}'.format(mse))\n"
   ]
  },
  {
   "cell_type": "code",
   "execution_count": 222,
   "id": "c83598d7",
   "metadata": {},
   "outputs": [
    {
     "name": "stdout",
     "output_type": "stream",
     "text": [
      "Predicted value for new data: 29.44\n"
     ]
    }
   ],
   "source": [
    "new_data = pd.DataFrame({'year': [2020], 'month': [6], 'day': [27]})\n",
    "y_pred = model1.predict(new_data)\n",
    "print('Predicted value for new data: {:.2f}'.format(y_pred[0]))"
   ]
  },
  {
   "cell_type": "markdown",
   "id": "b6d88f9e",
   "metadata": {},
   "source": [
    "# XGBoost"
   ]
  },
  {
   "cell_type": "code",
   "execution_count": 191,
   "id": "6f877757",
   "metadata": {},
   "outputs": [],
   "source": [
    "import xgboost as xgb\n",
    "from xgboost import plot_importance\n",
    "from sklearn.metrics import mean_squared_error"
   ]
  },
  {
   "cell_type": "code",
   "execution_count": 192,
   "id": "ea3b9369",
   "metadata": {},
   "outputs": [
    {
     "data": {
      "text/html": [
       "<div>\n",
       "<style scoped>\n",
       "    .dataframe tbody tr th:only-of-type {\n",
       "        vertical-align: middle;\n",
       "    }\n",
       "\n",
       "    .dataframe tbody tr th {\n",
       "        vertical-align: top;\n",
       "    }\n",
       "\n",
       "    .dataframe thead th {\n",
       "        text-align: right;\n",
       "    }\n",
       "</style>\n",
       "<table border=\"1\" class=\"dataframe\">\n",
       "  <thead>\n",
       "    <tr style=\"text-align: right;\">\n",
       "      <th></th>\n",
       "      <th>lights</th>\n",
       "      <th>acs</th>\n",
       "      <th>plug</th>\n",
       "      <th>Power_consumption</th>\n",
       "    </tr>\n",
       "    <tr>\n",
       "      <th>Date</th>\n",
       "      <th></th>\n",
       "      <th></th>\n",
       "      <th></th>\n",
       "      <th></th>\n",
       "    </tr>\n",
       "  </thead>\n",
       "  <tbody>\n",
       "    <tr>\n",
       "      <th>2018-07-01</th>\n",
       "      <td>0.091840</td>\n",
       "      <td>7.352958</td>\n",
       "      <td>0.525667</td>\n",
       "      <td>7.970465</td>\n",
       "    </tr>\n",
       "    <tr>\n",
       "      <th>2018-07-02</th>\n",
       "      <td>7.355410</td>\n",
       "      <td>34.890465</td>\n",
       "      <td>2.509278</td>\n",
       "      <td>44.755153</td>\n",
       "    </tr>\n",
       "    <tr>\n",
       "      <th>2018-07-03</th>\n",
       "      <td>7.417854</td>\n",
       "      <td>32.265833</td>\n",
       "      <td>2.619201</td>\n",
       "      <td>42.302889</td>\n",
       "    </tr>\n",
       "    <tr>\n",
       "      <th>2018-07-04</th>\n",
       "      <td>7.618875</td>\n",
       "      <td>31.681694</td>\n",
       "      <td>2.745785</td>\n",
       "      <td>42.046354</td>\n",
       "    </tr>\n",
       "    <tr>\n",
       "      <th>2018-07-05</th>\n",
       "      <td>7.505743</td>\n",
       "      <td>33.566118</td>\n",
       "      <td>2.498472</td>\n",
       "      <td>43.570333</td>\n",
       "    </tr>\n",
       "    <tr>\n",
       "      <th>...</th>\n",
       "      <td>...</td>\n",
       "      <td>...</td>\n",
       "      <td>...</td>\n",
       "      <td>...</td>\n",
       "    </tr>\n",
       "    <tr>\n",
       "      <th>2019-12-27</th>\n",
       "      <td>6.310729</td>\n",
       "      <td>27.680146</td>\n",
       "      <td>2.151625</td>\n",
       "      <td>36.142500</td>\n",
       "    </tr>\n",
       "    <tr>\n",
       "      <th>2019-12-28</th>\n",
       "      <td>0.232903</td>\n",
       "      <td>5.852451</td>\n",
       "      <td>0.485222</td>\n",
       "      <td>6.570576</td>\n",
       "    </tr>\n",
       "    <tr>\n",
       "      <th>2019-12-29</th>\n",
       "      <td>0.747597</td>\n",
       "      <td>5.970542</td>\n",
       "      <td>0.499299</td>\n",
       "      <td>7.217438</td>\n",
       "    </tr>\n",
       "    <tr>\n",
       "      <th>2019-12-30</th>\n",
       "      <td>0.218007</td>\n",
       "      <td>6.020139</td>\n",
       "      <td>0.483882</td>\n",
       "      <td>6.722028</td>\n",
       "    </tr>\n",
       "    <tr>\n",
       "      <th>2019-12-31</th>\n",
       "      <td>0.166736</td>\n",
       "      <td>6.120007</td>\n",
       "      <td>0.482764</td>\n",
       "      <td>6.769507</td>\n",
       "    </tr>\n",
       "  </tbody>\n",
       "</table>\n",
       "<p>549 rows × 4 columns</p>\n",
       "</div>"
      ],
      "text/plain": [
       "              lights        acs      plug  Power_consumption\n",
       "Date                                                        \n",
       "2018-07-01  0.091840   7.352958  0.525667           7.970465\n",
       "2018-07-02  7.355410  34.890465  2.509278          44.755153\n",
       "2018-07-03  7.417854  32.265833  2.619201          42.302889\n",
       "2018-07-04  7.618875  31.681694  2.745785          42.046354\n",
       "2018-07-05  7.505743  33.566118  2.498472          43.570333\n",
       "...              ...        ...       ...                ...\n",
       "2019-12-27  6.310729  27.680146  2.151625          36.142500\n",
       "2019-12-28  0.232903   5.852451  0.485222           6.570576\n",
       "2019-12-29  0.747597   5.970542  0.499299           7.217438\n",
       "2019-12-30  0.218007   6.020139  0.483882           6.722028\n",
       "2019-12-31  0.166736   6.120007  0.482764           6.769507\n",
       "\n",
       "[549 rows x 4 columns]"
      ]
     },
     "execution_count": 192,
     "metadata": {},
     "output_type": "execute_result"
    }
   ],
   "source": [
    "df3=final_df.resample('D').mean()\n",
    "df3"
   ]
  },
  {
   "cell_type": "code",
   "execution_count": 193,
   "id": "e0f24564",
   "metadata": {},
   "outputs": [
    {
     "data": {
      "text/plain": [
       "lights               0\n",
       "acs                  0\n",
       "plug                 0\n",
       "Power_consumption    0\n",
       "dtype: int64"
      ]
     },
     "execution_count": 193,
     "metadata": {},
     "output_type": "execute_result"
    }
   ],
   "source": [
    "df3.isnull().sum()"
   ]
  },
  {
   "cell_type": "code",
   "execution_count": 194,
   "id": "3f160a16",
   "metadata": {},
   "outputs": [
    {
     "data": {
      "text/plain": [
       "(397, 4)"
      ]
     },
     "execution_count": 194,
     "metadata": {},
     "output_type": "execute_result"
    }
   ],
   "source": [
    "split_date =pd.to_datetime( '2019-08-01')\n",
    "df_train = df3.loc[df3.index <= split_date].copy()\n",
    "df_train.shape"
   ]
  },
  {
   "cell_type": "code",
   "execution_count": 195,
   "id": "639c454a",
   "metadata": {},
   "outputs": [
    {
     "data": {
      "text/html": [
       "<div>\n",
       "<style scoped>\n",
       "    .dataframe tbody tr th:only-of-type {\n",
       "        vertical-align: middle;\n",
       "    }\n",
       "\n",
       "    .dataframe tbody tr th {\n",
       "        vertical-align: top;\n",
       "    }\n",
       "\n",
       "    .dataframe thead th {\n",
       "        text-align: right;\n",
       "    }\n",
       "</style>\n",
       "<table border=\"1\" class=\"dataframe\">\n",
       "  <thead>\n",
       "    <tr style=\"text-align: right;\">\n",
       "      <th></th>\n",
       "      <th>lights</th>\n",
       "      <th>acs</th>\n",
       "      <th>plug</th>\n",
       "      <th>Power_consumption</th>\n",
       "    </tr>\n",
       "    <tr>\n",
       "      <th>Date</th>\n",
       "      <th></th>\n",
       "      <th></th>\n",
       "      <th></th>\n",
       "      <th></th>\n",
       "    </tr>\n",
       "  </thead>\n",
       "  <tbody>\n",
       "    <tr>\n",
       "      <th>2018-07-01</th>\n",
       "      <td>0.091840</td>\n",
       "      <td>7.352958</td>\n",
       "      <td>0.525667</td>\n",
       "      <td>7.970465</td>\n",
       "    </tr>\n",
       "    <tr>\n",
       "      <th>2018-07-02</th>\n",
       "      <td>7.355410</td>\n",
       "      <td>34.890465</td>\n",
       "      <td>2.509278</td>\n",
       "      <td>44.755153</td>\n",
       "    </tr>\n",
       "    <tr>\n",
       "      <th>2018-07-03</th>\n",
       "      <td>7.417854</td>\n",
       "      <td>32.265833</td>\n",
       "      <td>2.619201</td>\n",
       "      <td>42.302889</td>\n",
       "    </tr>\n",
       "    <tr>\n",
       "      <th>2018-07-04</th>\n",
       "      <td>7.618875</td>\n",
       "      <td>31.681694</td>\n",
       "      <td>2.745785</td>\n",
       "      <td>42.046354</td>\n",
       "    </tr>\n",
       "    <tr>\n",
       "      <th>2018-07-05</th>\n",
       "      <td>7.505743</td>\n",
       "      <td>33.566118</td>\n",
       "      <td>2.498472</td>\n",
       "      <td>43.570333</td>\n",
       "    </tr>\n",
       "    <tr>\n",
       "      <th>...</th>\n",
       "      <td>...</td>\n",
       "      <td>...</td>\n",
       "      <td>...</td>\n",
       "      <td>...</td>\n",
       "    </tr>\n",
       "    <tr>\n",
       "      <th>2019-07-28</th>\n",
       "      <td>1.311285</td>\n",
       "      <td>14.521757</td>\n",
       "      <td>0.719014</td>\n",
       "      <td>16.552056</td>\n",
       "    </tr>\n",
       "    <tr>\n",
       "      <th>2019-07-29</th>\n",
       "      <td>1.458868</td>\n",
       "      <td>15.990799</td>\n",
       "      <td>0.758465</td>\n",
       "      <td>18.208132</td>\n",
       "    </tr>\n",
       "    <tr>\n",
       "      <th>2019-07-30</th>\n",
       "      <td>5.917222</td>\n",
       "      <td>31.079396</td>\n",
       "      <td>2.386208</td>\n",
       "      <td>39.382826</td>\n",
       "    </tr>\n",
       "    <tr>\n",
       "      <th>2019-07-31</th>\n",
       "      <td>6.440604</td>\n",
       "      <td>31.891729</td>\n",
       "      <td>2.426778</td>\n",
       "      <td>40.759111</td>\n",
       "    </tr>\n",
       "    <tr>\n",
       "      <th>2019-08-01</th>\n",
       "      <td>6.113069</td>\n",
       "      <td>29.351736</td>\n",
       "      <td>2.350201</td>\n",
       "      <td>37.815007</td>\n",
       "    </tr>\n",
       "  </tbody>\n",
       "</table>\n",
       "<p>397 rows × 4 columns</p>\n",
       "</div>"
      ],
      "text/plain": [
       "              lights        acs      plug  Power_consumption\n",
       "Date                                                        \n",
       "2018-07-01  0.091840   7.352958  0.525667           7.970465\n",
       "2018-07-02  7.355410  34.890465  2.509278          44.755153\n",
       "2018-07-03  7.417854  32.265833  2.619201          42.302889\n",
       "2018-07-04  7.618875  31.681694  2.745785          42.046354\n",
       "2018-07-05  7.505743  33.566118  2.498472          43.570333\n",
       "...              ...        ...       ...                ...\n",
       "2019-07-28  1.311285  14.521757  0.719014          16.552056\n",
       "2019-07-29  1.458868  15.990799  0.758465          18.208132\n",
       "2019-07-30  5.917222  31.079396  2.386208          39.382826\n",
       "2019-07-31  6.440604  31.891729  2.426778          40.759111\n",
       "2019-08-01  6.113069  29.351736  2.350201          37.815007\n",
       "\n",
       "[397 rows x 4 columns]"
      ]
     },
     "execution_count": 195,
     "metadata": {},
     "output_type": "execute_result"
    }
   ],
   "source": [
    "df_train"
   ]
  },
  {
   "cell_type": "code",
   "execution_count": 196,
   "id": "a6f4dfbf",
   "metadata": {},
   "outputs": [
    {
     "data": {
      "text/plain": [
       "(152, 4)"
      ]
     },
     "execution_count": 196,
     "metadata": {},
     "output_type": "execute_result"
    }
   ],
   "source": [
    "#df_test = pd.DataFrame(newdf.loc[newdf.index > split_date]\n",
    "df_test = pd.DataFrame(df3.loc[df3.index > split_date])\n",
    "\n",
    "df_test.shape"
   ]
  },
  {
   "cell_type": "code",
   "execution_count": 197,
   "id": "764c249e",
   "metadata": {},
   "outputs": [
    {
     "data": {
      "text/html": [
       "<div>\n",
       "<style scoped>\n",
       "    .dataframe tbody tr th:only-of-type {\n",
       "        vertical-align: middle;\n",
       "    }\n",
       "\n",
       "    .dataframe tbody tr th {\n",
       "        vertical-align: top;\n",
       "    }\n",
       "\n",
       "    .dataframe thead th {\n",
       "        text-align: right;\n",
       "    }\n",
       "</style>\n",
       "<table border=\"1\" class=\"dataframe\">\n",
       "  <thead>\n",
       "    <tr style=\"text-align: right;\">\n",
       "      <th></th>\n",
       "      <th>lights</th>\n",
       "      <th>acs</th>\n",
       "      <th>plug</th>\n",
       "      <th>Power_consumption</th>\n",
       "    </tr>\n",
       "    <tr>\n",
       "      <th>Date</th>\n",
       "      <th></th>\n",
       "      <th></th>\n",
       "      <th></th>\n",
       "      <th></th>\n",
       "    </tr>\n",
       "  </thead>\n",
       "  <tbody>\n",
       "    <tr>\n",
       "      <th>2019-08-02</th>\n",
       "      <td>5.929486</td>\n",
       "      <td>29.034236</td>\n",
       "      <td>2.268042</td>\n",
       "      <td>37.231764</td>\n",
       "    </tr>\n",
       "    <tr>\n",
       "      <th>2019-08-03</th>\n",
       "      <td>1.157639</td>\n",
       "      <td>12.462514</td>\n",
       "      <td>0.861660</td>\n",
       "      <td>14.481812</td>\n",
       "    </tr>\n",
       "    <tr>\n",
       "      <th>2019-08-04</th>\n",
       "      <td>0.280444</td>\n",
       "      <td>4.563729</td>\n",
       "      <td>0.635326</td>\n",
       "      <td>5.479500</td>\n",
       "    </tr>\n",
       "    <tr>\n",
       "      <th>2019-08-05</th>\n",
       "      <td>6.122201</td>\n",
       "      <td>30.025044</td>\n",
       "      <td>2.324993</td>\n",
       "      <td>38.465284</td>\n",
       "    </tr>\n",
       "    <tr>\n",
       "      <th>2019-08-06</th>\n",
       "      <td>5.944910</td>\n",
       "      <td>29.354819</td>\n",
       "      <td>2.231097</td>\n",
       "      <td>37.530826</td>\n",
       "    </tr>\n",
       "    <tr>\n",
       "      <th>...</th>\n",
       "      <td>...</td>\n",
       "      <td>...</td>\n",
       "      <td>...</td>\n",
       "      <td>...</td>\n",
       "    </tr>\n",
       "    <tr>\n",
       "      <th>2019-12-27</th>\n",
       "      <td>6.310729</td>\n",
       "      <td>27.680146</td>\n",
       "      <td>2.151625</td>\n",
       "      <td>36.142500</td>\n",
       "    </tr>\n",
       "    <tr>\n",
       "      <th>2019-12-28</th>\n",
       "      <td>0.232903</td>\n",
       "      <td>5.852451</td>\n",
       "      <td>0.485222</td>\n",
       "      <td>6.570576</td>\n",
       "    </tr>\n",
       "    <tr>\n",
       "      <th>2019-12-29</th>\n",
       "      <td>0.747597</td>\n",
       "      <td>5.970542</td>\n",
       "      <td>0.499299</td>\n",
       "      <td>7.217438</td>\n",
       "    </tr>\n",
       "    <tr>\n",
       "      <th>2019-12-30</th>\n",
       "      <td>0.218007</td>\n",
       "      <td>6.020139</td>\n",
       "      <td>0.483882</td>\n",
       "      <td>6.722028</td>\n",
       "    </tr>\n",
       "    <tr>\n",
       "      <th>2019-12-31</th>\n",
       "      <td>0.166736</td>\n",
       "      <td>6.120007</td>\n",
       "      <td>0.482764</td>\n",
       "      <td>6.769507</td>\n",
       "    </tr>\n",
       "  </tbody>\n",
       "</table>\n",
       "<p>152 rows × 4 columns</p>\n",
       "</div>"
      ],
      "text/plain": [
       "              lights        acs      plug  Power_consumption\n",
       "Date                                                        \n",
       "2019-08-02  5.929486  29.034236  2.268042          37.231764\n",
       "2019-08-03  1.157639  12.462514  0.861660          14.481812\n",
       "2019-08-04  0.280444   4.563729  0.635326           5.479500\n",
       "2019-08-05  6.122201  30.025044  2.324993          38.465284\n",
       "2019-08-06  5.944910  29.354819  2.231097          37.530826\n",
       "...              ...        ...       ...                ...\n",
       "2019-12-27  6.310729  27.680146  2.151625          36.142500\n",
       "2019-12-28  0.232903   5.852451  0.485222           6.570576\n",
       "2019-12-29  0.747597   5.970542  0.499299           7.217438\n",
       "2019-12-30  0.218007   6.020139  0.483882           6.722028\n",
       "2019-12-31  0.166736   6.120007  0.482764           6.769507\n",
       "\n",
       "[152 rows x 4 columns]"
      ]
     },
     "execution_count": 197,
     "metadata": {},
     "output_type": "execute_result"
    }
   ],
   "source": [
    "df_test"
   ]
  },
  {
   "cell_type": "code",
   "execution_count": 198,
   "id": "5f7f0980",
   "metadata": {},
   "outputs": [],
   "source": [
    "X_tr = df_train[['lights', 'acs', 'plug']]\n",
    "y_tr = df_train['Power_consumption']\n",
    "X_te = df_test[['lights', 'acs', 'plug']]\n",
    "y_te = df_test['Power_consumption']"
   ]
  },
  {
   "cell_type": "code",
   "execution_count": 199,
   "id": "1f60366c",
   "metadata": {},
   "outputs": [
    {
     "data": {
      "text/html": [
       "<div>\n",
       "<style scoped>\n",
       "    .dataframe tbody tr th:only-of-type {\n",
       "        vertical-align: middle;\n",
       "    }\n",
       "\n",
       "    .dataframe tbody tr th {\n",
       "        vertical-align: top;\n",
       "    }\n",
       "\n",
       "    .dataframe thead th {\n",
       "        text-align: right;\n",
       "    }\n",
       "</style>\n",
       "<table border=\"1\" class=\"dataframe\">\n",
       "  <thead>\n",
       "    <tr style=\"text-align: right;\">\n",
       "      <th></th>\n",
       "      <th>lights</th>\n",
       "      <th>acs</th>\n",
       "      <th>plug</th>\n",
       "    </tr>\n",
       "    <tr>\n",
       "      <th>Date</th>\n",
       "      <th></th>\n",
       "      <th></th>\n",
       "      <th></th>\n",
       "    </tr>\n",
       "  </thead>\n",
       "  <tbody>\n",
       "    <tr>\n",
       "      <th>2018-07-01</th>\n",
       "      <td>0.091840</td>\n",
       "      <td>7.352958</td>\n",
       "      <td>0.525667</td>\n",
       "    </tr>\n",
       "    <tr>\n",
       "      <th>2018-07-02</th>\n",
       "      <td>7.355410</td>\n",
       "      <td>34.890465</td>\n",
       "      <td>2.509278</td>\n",
       "    </tr>\n",
       "    <tr>\n",
       "      <th>2018-07-03</th>\n",
       "      <td>7.417854</td>\n",
       "      <td>32.265833</td>\n",
       "      <td>2.619201</td>\n",
       "    </tr>\n",
       "    <tr>\n",
       "      <th>2018-07-04</th>\n",
       "      <td>7.618875</td>\n",
       "      <td>31.681694</td>\n",
       "      <td>2.745785</td>\n",
       "    </tr>\n",
       "    <tr>\n",
       "      <th>2018-07-05</th>\n",
       "      <td>7.505743</td>\n",
       "      <td>33.566118</td>\n",
       "      <td>2.498472</td>\n",
       "    </tr>\n",
       "    <tr>\n",
       "      <th>...</th>\n",
       "      <td>...</td>\n",
       "      <td>...</td>\n",
       "      <td>...</td>\n",
       "    </tr>\n",
       "    <tr>\n",
       "      <th>2019-07-28</th>\n",
       "      <td>1.311285</td>\n",
       "      <td>14.521757</td>\n",
       "      <td>0.719014</td>\n",
       "    </tr>\n",
       "    <tr>\n",
       "      <th>2019-07-29</th>\n",
       "      <td>1.458868</td>\n",
       "      <td>15.990799</td>\n",
       "      <td>0.758465</td>\n",
       "    </tr>\n",
       "    <tr>\n",
       "      <th>2019-07-30</th>\n",
       "      <td>5.917222</td>\n",
       "      <td>31.079396</td>\n",
       "      <td>2.386208</td>\n",
       "    </tr>\n",
       "    <tr>\n",
       "      <th>2019-07-31</th>\n",
       "      <td>6.440604</td>\n",
       "      <td>31.891729</td>\n",
       "      <td>2.426778</td>\n",
       "    </tr>\n",
       "    <tr>\n",
       "      <th>2019-08-01</th>\n",
       "      <td>6.113069</td>\n",
       "      <td>29.351736</td>\n",
       "      <td>2.350201</td>\n",
       "    </tr>\n",
       "  </tbody>\n",
       "</table>\n",
       "<p>397 rows × 3 columns</p>\n",
       "</div>"
      ],
      "text/plain": [
       "              lights        acs      plug\n",
       "Date                                     \n",
       "2018-07-01  0.091840   7.352958  0.525667\n",
       "2018-07-02  7.355410  34.890465  2.509278\n",
       "2018-07-03  7.417854  32.265833  2.619201\n",
       "2018-07-04  7.618875  31.681694  2.745785\n",
       "2018-07-05  7.505743  33.566118  2.498472\n",
       "...              ...        ...       ...\n",
       "2019-07-28  1.311285  14.521757  0.719014\n",
       "2019-07-29  1.458868  15.990799  0.758465\n",
       "2019-07-30  5.917222  31.079396  2.386208\n",
       "2019-07-31  6.440604  31.891729  2.426778\n",
       "2019-08-01  6.113069  29.351736  2.350201\n",
       "\n",
       "[397 rows x 3 columns]"
      ]
     },
     "execution_count": 199,
     "metadata": {},
     "output_type": "execute_result"
    }
   ],
   "source": [
    "X_tr"
   ]
  },
  {
   "cell_type": "code",
   "execution_count": 200,
   "id": "7b3619ec",
   "metadata": {},
   "outputs": [
    {
     "name": "stderr",
     "output_type": "stream",
     "text": [
      "C:\\Users\\yalla\\anaconda3\\lib\\site-packages\\xgboost\\sklearn.py:835: UserWarning: `early_stopping_rounds` in `fit` method is deprecated for better compatibility with scikit-learn, use `early_stopping_rounds` in constructor or`set_params` instead.\n",
      "  warnings.warn(\n"
     ]
    },
    {
     "data": {
      "text/plain": [
       "XGBRegressor(base_score=None, booster=None, callbacks=None,\n",
       "             colsample_bylevel=None, colsample_bynode=None,\n",
       "             colsample_bytree=None, early_stopping_rounds=None,\n",
       "             enable_categorical=False, eval_metric=None, feature_types=None,\n",
       "             gamma=None, gpu_id=None, grow_policy=None, importance_type=None,\n",
       "             interaction_constraints=None, learning_rate=None, max_bin=None,\n",
       "             max_cat_threshold=None, max_cat_to_onehot=None,\n",
       "             max_delta_step=None, max_depth=None, max_leaves=None,\n",
       "             min_child_weight=None, missing=nan, monotone_constraints=None,\n",
       "             n_estimators=1000, n_jobs=None, num_parallel_tree=None,\n",
       "             predictor=None, random_state=None, ...)"
      ]
     },
     "execution_count": 200,
     "metadata": {},
     "output_type": "execute_result"
    }
   ],
   "source": [
    "reg = xgb.XGBRegressor(n_estimators=1000)\n",
    "reg.fit(X_tr, y_tr,\n",
    "        eval_set=[(X_tr, y_tr), (X_te, y_te)],\n",
    "        early_stopping_rounds=50,\n",
    "       verbose=False)"
   ]
  },
  {
   "cell_type": "code",
   "execution_count": 201,
   "id": "1f6c661f",
   "metadata": {},
   "outputs": [
    {
     "data": {
      "image/png": "[encoded data removed]",
      "text/plain": [
       "<Figure size 1080x720 with 1 Axes>"
      ]
     },
     "metadata": {
      "needs_background": "light"
     },
     "output_type": "display_data"
    }
   ],
   "source": [
    "f, ax = plt.subplots(figsize=(15,10))\n",
    "_ = plot_importance(reg, height=0.9,ax = ax)\n",
    "plt.show()"
   ]
  },
  {
   "cell_type": "code",
   "execution_count": 202,
   "id": "a3bc50ee",
   "metadata": {},
   "outputs": [],
   "source": [
    "df_test['Prediction'] = reg.predict(X_te)\n",
    "df_all = pd.concat([df_test, df_train], sort=False)"
   ]
  },
  {
   "cell_type": "code",
   "execution_count": 203,
   "id": "e395d0b8",
   "metadata": {},
   "outputs": [
    {
     "data": {
      "text/html": [
       "<div>\n",
       "<style scoped>\n",
       "    .dataframe tbody tr th:only-of-type {\n",
       "        vertical-align: middle;\n",
       "    }\n",
       "\n",
       "    .dataframe tbody tr th {\n",
       "        vertical-align: top;\n",
       "    }\n",
       "\n",
       "    .dataframe thead th {\n",
       "        text-align: right;\n",
       "    }\n",
       "</style>\n",
       "<table border=\"1\" class=\"dataframe\">\n",
       "  <thead>\n",
       "    <tr style=\"text-align: right;\">\n",
       "      <th></th>\n",
       "      <th>lights</th>\n",
       "      <th>acs</th>\n",
       "      <th>plug</th>\n",
       "      <th>Power_consumption</th>\n",
       "      <th>Prediction</th>\n",
       "    </tr>\n",
       "    <tr>\n",
       "      <th>Date</th>\n",
       "      <th></th>\n",
       "      <th></th>\n",
       "      <th></th>\n",
       "      <th></th>\n",
       "      <th></th>\n",
       "    </tr>\n",
       "  </thead>\n",
       "  <tbody>\n",
       "    <tr>\n",
       "      <th>2019-08-02</th>\n",
       "      <td>5.929486</td>\n",
       "      <td>29.034236</td>\n",
       "      <td>2.268042</td>\n",
       "      <td>37.231764</td>\n",
       "      <td>37.308609</td>\n",
       "    </tr>\n",
       "    <tr>\n",
       "      <th>2019-08-03</th>\n",
       "      <td>1.157639</td>\n",
       "      <td>12.462514</td>\n",
       "      <td>0.861660</td>\n",
       "      <td>14.481812</td>\n",
       "      <td>15.875114</td>\n",
       "    </tr>\n",
       "    <tr>\n",
       "      <th>2019-08-04</th>\n",
       "      <td>0.280444</td>\n",
       "      <td>4.563729</td>\n",
       "      <td>0.635326</td>\n",
       "      <td>5.479500</td>\n",
       "      <td>5.703195</td>\n",
       "    </tr>\n",
       "    <tr>\n",
       "      <th>2019-08-05</th>\n",
       "      <td>6.122201</td>\n",
       "      <td>30.025044</td>\n",
       "      <td>2.324993</td>\n",
       "      <td>38.465284</td>\n",
       "      <td>38.584488</td>\n",
       "    </tr>\n",
       "    <tr>\n",
       "      <th>2019-08-06</th>\n",
       "      <td>5.944910</td>\n",
       "      <td>29.354819</td>\n",
       "      <td>2.231097</td>\n",
       "      <td>37.530826</td>\n",
       "      <td>37.643127</td>\n",
       "    </tr>\n",
       "    <tr>\n",
       "      <th>...</th>\n",
       "      <td>...</td>\n",
       "      <td>...</td>\n",
       "      <td>...</td>\n",
       "      <td>...</td>\n",
       "      <td>...</td>\n",
       "    </tr>\n",
       "    <tr>\n",
       "      <th>2019-12-27</th>\n",
       "      <td>6.310729</td>\n",
       "      <td>27.680146</td>\n",
       "      <td>2.151625</td>\n",
       "      <td>36.142500</td>\n",
       "      <td>36.333904</td>\n",
       "    </tr>\n",
       "    <tr>\n",
       "      <th>2019-12-28</th>\n",
       "      <td>0.232903</td>\n",
       "      <td>5.852451</td>\n",
       "      <td>0.485222</td>\n",
       "      <td>6.570576</td>\n",
       "      <td>6.562867</td>\n",
       "    </tr>\n",
       "    <tr>\n",
       "      <th>2019-12-29</th>\n",
       "      <td>0.747597</td>\n",
       "      <td>5.970542</td>\n",
       "      <td>0.499299</td>\n",
       "      <td>7.217438</td>\n",
       "      <td>7.208497</td>\n",
       "    </tr>\n",
       "    <tr>\n",
       "      <th>2019-12-30</th>\n",
       "      <td>0.218007</td>\n",
       "      <td>6.020139</td>\n",
       "      <td>0.483882</td>\n",
       "      <td>6.722028</td>\n",
       "      <td>6.724404</td>\n",
       "    </tr>\n",
       "    <tr>\n",
       "      <th>2019-12-31</th>\n",
       "      <td>0.166736</td>\n",
       "      <td>6.120007</td>\n",
       "      <td>0.482764</td>\n",
       "      <td>6.769507</td>\n",
       "      <td>6.856830</td>\n",
       "    </tr>\n",
       "  </tbody>\n",
       "</table>\n",
       "<p>152 rows × 5 columns</p>\n",
       "</div>"
      ],
      "text/plain": [
       "              lights        acs      plug  Power_consumption  Prediction\n",
       "Date                                                                    \n",
       "2019-08-02  5.929486  29.034236  2.268042          37.231764   37.308609\n",
       "2019-08-03  1.157639  12.462514  0.861660          14.481812   15.875114\n",
       "2019-08-04  0.280444   4.563729  0.635326           5.479500    5.703195\n",
       "2019-08-05  6.122201  30.025044  2.324993          38.465284   38.584488\n",
       "2019-08-06  5.944910  29.354819  2.231097          37.530826   37.643127\n",
       "...              ...        ...       ...                ...         ...\n",
       "2019-12-27  6.310729  27.680146  2.151625          36.142500   36.333904\n",
       "2019-12-28  0.232903   5.852451  0.485222           6.570576    6.562867\n",
       "2019-12-29  0.747597   5.970542  0.499299           7.217438    7.208497\n",
       "2019-12-30  0.218007   6.020139  0.483882           6.722028    6.724404\n",
       "2019-12-31  0.166736   6.120007  0.482764           6.769507    6.856830\n",
       "\n",
       "[152 rows x 5 columns]"
      ]
     },
     "execution_count": 203,
     "metadata": {},
     "output_type": "execute_result"
    }
   ],
   "source": [
    "df_test"
   ]
  },
  {
   "cell_type": "code",
   "execution_count": 204,
   "id": "4a26428c",
   "metadata": {},
   "outputs": [
    {
     "data": {
      "image/png": "[encoded data removed]",
      "text/plain": [
       "<Figure size 1080x360 with 1 Axes>"
      ]
     },
     "metadata": {
      "needs_background": "light"
     },
     "output_type": "display_data"
    }
   ],
   "source": [
    "f, ax = plt.subplots(1)\n",
    "f.set_figheight(5)\n",
    "f.set_figwidth(15)\n",
    "_ = df_all[['Power_consumption','Prediction']].plot(ax=ax,style=['-','.'])\n",
    "ax.set_xbound(lower='08-01-2018', upper='12-31-2019')\n",
    "plot = plt.suptitle('Predicted Day')\n",
    "plt.show()"
   ]
  },
  {
   "cell_type": "code",
   "execution_count": 205,
   "id": "702fd55b",
   "metadata": {},
   "outputs": [
    {
     "data": {
      "text/plain": [
       "0.4282644887251256"
      ]
     },
     "execution_count": 205,
     "metadata": {},
     "output_type": "execute_result"
    }
   ],
   "source": [
    "np.sqrt(mean_squared_error(df_test['Prediction'], df_test['Power_consumption']))\n"
   ]
  },
  {
   "cell_type": "code",
   "execution_count": 206,
   "id": "3fc80d1d",
   "metadata": {},
   "outputs": [
    {
     "name": "stdout",
     "output_type": "stream",
     "text": [
      "Mean squared error: 0.18\n"
     ]
    }
   ],
   "source": [
    "y_pr = reg.predict(X_te)\n",
    "mse = mean_squared_error(y_te, y_pr)\n",
    "print('Mean squared error: {:.2f}'.format(mse))\n"
   ]
  },
  {
   "cell_type": "code",
   "execution_count": 221,
   "id": "2d05ffac",
   "metadata": {},
   "outputs": [
    {
     "name": "stdout",
     "output_type": "stream",
     "text": [
      " Accuracy of the model is 99.90\n"
     ]
    }
   ],
   "source": [
    "from sklearn.metrics import r2_score\n",
    "Accuracy=r2_score(y_te,y_pr)*100\n",
    "print(\" Accuracy of the model is %.2f\" %Accuracy)"
   ]
  },
  {
   "cell_type": "markdown",
   "id": "71228c83",
   "metadata": {},
   "source": [
    "# Linear Regression"
   ]
  },
  {
   "cell_type": "code",
   "execution_count": 207,
   "id": "9c0acab2",
   "metadata": {},
   "outputs": [
    {
     "data": {
      "text/html": [
       "<div>\n",
       "<style scoped>\n",
       "    .dataframe tbody tr th:only-of-type {\n",
       "        vertical-align: middle;\n",
       "    }\n",
       "\n",
       "    .dataframe tbody tr th {\n",
       "        vertical-align: top;\n",
       "    }\n",
       "\n",
       "    .dataframe thead th {\n",
       "        text-align: right;\n",
       "    }\n",
       "</style>\n",
       "<table border=\"1\" class=\"dataframe\">\n",
       "  <thead>\n",
       "    <tr style=\"text-align: right;\">\n",
       "      <th></th>\n",
       "      <th>lights</th>\n",
       "      <th>acs</th>\n",
       "      <th>plug</th>\n",
       "      <th>Power_consumption</th>\n",
       "      <th>year</th>\n",
       "      <th>month</th>\n",
       "      <th>day</th>\n",
       "    </tr>\n",
       "    <tr>\n",
       "      <th>Date</th>\n",
       "      <th></th>\n",
       "      <th></th>\n",
       "      <th></th>\n",
       "      <th></th>\n",
       "      <th></th>\n",
       "      <th></th>\n",
       "      <th></th>\n",
       "    </tr>\n",
       "  </thead>\n",
       "  <tbody>\n",
       "    <tr>\n",
       "      <th>2018-07-01</th>\n",
       "      <td>0.091840</td>\n",
       "      <td>7.352958</td>\n",
       "      <td>0.525667</td>\n",
       "      <td>7.970465</td>\n",
       "      <td>2018</td>\n",
       "      <td>7</td>\n",
       "      <td>1</td>\n",
       "    </tr>\n",
       "    <tr>\n",
       "      <th>2018-07-02</th>\n",
       "      <td>7.355410</td>\n",
       "      <td>34.890465</td>\n",
       "      <td>2.509278</td>\n",
       "      <td>44.755153</td>\n",
       "      <td>2018</td>\n",
       "      <td>7</td>\n",
       "      <td>2</td>\n",
       "    </tr>\n",
       "    <tr>\n",
       "      <th>2018-07-03</th>\n",
       "      <td>7.417854</td>\n",
       "      <td>32.265833</td>\n",
       "      <td>2.619201</td>\n",
       "      <td>42.302889</td>\n",
       "      <td>2018</td>\n",
       "      <td>7</td>\n",
       "      <td>3</td>\n",
       "    </tr>\n",
       "    <tr>\n",
       "      <th>2018-07-04</th>\n",
       "      <td>7.618875</td>\n",
       "      <td>31.681694</td>\n",
       "      <td>2.745785</td>\n",
       "      <td>42.046354</td>\n",
       "      <td>2018</td>\n",
       "      <td>7</td>\n",
       "      <td>4</td>\n",
       "    </tr>\n",
       "    <tr>\n",
       "      <th>2018-07-05</th>\n",
       "      <td>7.505743</td>\n",
       "      <td>33.566118</td>\n",
       "      <td>2.498472</td>\n",
       "      <td>43.570333</td>\n",
       "      <td>2018</td>\n",
       "      <td>7</td>\n",
       "      <td>5</td>\n",
       "    </tr>\n",
       "  </tbody>\n",
       "</table>\n",
       "</div>"
      ],
      "text/plain": [
       "              lights        acs      plug  Power_consumption  year  month  day\n",
       "Date                                                                          \n",
       "2018-07-01  0.091840   7.352958  0.525667           7.970465  2018      7    1\n",
       "2018-07-02  7.355410  34.890465  2.509278          44.755153  2018      7    2\n",
       "2018-07-03  7.417854  32.265833  2.619201          42.302889  2018      7    3\n",
       "2018-07-04  7.618875  31.681694  2.745785          42.046354  2018      7    4\n",
       "2018-07-05  7.505743  33.566118  2.498472          43.570333  2018      7    5"
      ]
     },
     "execution_count": 207,
     "metadata": {},
     "output_type": "execute_result"
    }
   ],
   "source": [
    "df1.head()"
   ]
  },
  {
   "cell_type": "code",
   "execution_count": 208,
   "id": "7ccc2f1c",
   "metadata": {},
   "outputs": [],
   "source": [
    "X=df1.iloc[ : , :3]\n",
    "y=df1.iloc[ : , 3:4]\n",
    "\n",
    "from sklearn.model_selection import train_test_split\n",
    "X_train,X_test, y_train, y_test = train_test_split(X,y,test_size=0.3, shuffle=True,random_state=1)"
   ]
  },
  {
   "cell_type": "code",
   "execution_count": 211,
   "id": "0e8e5196",
   "metadata": {},
   "outputs": [
    {
     "data": {
      "text/html": [
       "<div>\n",
       "<style scoped>\n",
       "    .dataframe tbody tr th:only-of-type {\n",
       "        vertical-align: middle;\n",
       "    }\n",
       "\n",
       "    .dataframe tbody tr th {\n",
       "        vertical-align: top;\n",
       "    }\n",
       "\n",
       "    .dataframe thead th {\n",
       "        text-align: right;\n",
       "    }\n",
       "</style>\n",
       "<table border=\"1\" class=\"dataframe\">\n",
       "  <thead>\n",
       "    <tr style=\"text-align: right;\">\n",
       "      <th></th>\n",
       "      <th>lights</th>\n",
       "      <th>acs</th>\n",
       "      <th>plug</th>\n",
       "    </tr>\n",
       "    <tr>\n",
       "      <th>Date</th>\n",
       "      <th></th>\n",
       "      <th></th>\n",
       "      <th></th>\n",
       "    </tr>\n",
       "  </thead>\n",
       "  <tbody>\n",
       "    <tr>\n",
       "      <th>2018-12-08</th>\n",
       "      <td>0.176681</td>\n",
       "      <td>5.819181</td>\n",
       "      <td>0.453257</td>\n",
       "    </tr>\n",
       "    <tr>\n",
       "      <th>2019-05-02</th>\n",
       "      <td>5.964207</td>\n",
       "      <td>38.511301</td>\n",
       "      <td>2.117271</td>\n",
       "    </tr>\n",
       "    <tr>\n",
       "      <th>2018-09-04</th>\n",
       "      <td>7.391160</td>\n",
       "      <td>23.294445</td>\n",
       "      <td>2.400701</td>\n",
       "    </tr>\n",
       "    <tr>\n",
       "      <th>2019-05-21</th>\n",
       "      <td>6.102104</td>\n",
       "      <td>40.304382</td>\n",
       "      <td>2.331285</td>\n",
       "    </tr>\n",
       "    <tr>\n",
       "      <th>2018-11-13</th>\n",
       "      <td>5.621840</td>\n",
       "      <td>26.913498</td>\n",
       "      <td>1.869986</td>\n",
       "    </tr>\n",
       "    <tr>\n",
       "      <th>...</th>\n",
       "      <td>...</td>\n",
       "      <td>...</td>\n",
       "      <td>...</td>\n",
       "    </tr>\n",
       "    <tr>\n",
       "      <th>2019-07-14</th>\n",
       "      <td>0.727889</td>\n",
       "      <td>14.556687</td>\n",
       "      <td>0.725493</td>\n",
       "    </tr>\n",
       "    <tr>\n",
       "      <th>2018-07-19</th>\n",
       "      <td>7.372292</td>\n",
       "      <td>31.751326</td>\n",
       "      <td>2.607076</td>\n",
       "    </tr>\n",
       "    <tr>\n",
       "      <th>2019-07-24</th>\n",
       "      <td>6.108063</td>\n",
       "      <td>28.955076</td>\n",
       "      <td>2.361813</td>\n",
       "    </tr>\n",
       "    <tr>\n",
       "      <th>2018-10-30</th>\n",
       "      <td>6.027250</td>\n",
       "      <td>28.288604</td>\n",
       "      <td>1.889160</td>\n",
       "    </tr>\n",
       "    <tr>\n",
       "      <th>2019-10-30</th>\n",
       "      <td>5.937868</td>\n",
       "      <td>28.631340</td>\n",
       "      <td>2.161257</td>\n",
       "    </tr>\n",
       "  </tbody>\n",
       "</table>\n",
       "<p>165 rows × 3 columns</p>\n",
       "</div>"
      ],
      "text/plain": [
       "              lights        acs      plug\n",
       "Date                                     \n",
       "2018-12-08  0.176681   5.819181  0.453257\n",
       "2019-05-02  5.964207  38.511301  2.117271\n",
       "2018-09-04  7.391160  23.294445  2.400701\n",
       "2019-05-21  6.102104  40.304382  2.331285\n",
       "2018-11-13  5.621840  26.913498  1.869986\n",
       "...              ...        ...       ...\n",
       "2019-07-14  0.727889  14.556687  0.725493\n",
       "2018-07-19  7.372292  31.751326  2.607076\n",
       "2019-07-24  6.108063  28.955076  2.361813\n",
       "2018-10-30  6.027250  28.288604  1.889160\n",
       "2019-10-30  5.937868  28.631340  2.161257\n",
       "\n",
       "[165 rows x 3 columns]"
      ]
     },
     "execution_count": 211,
     "metadata": {},
     "output_type": "execute_result"
    }
   ],
   "source": [
    "X_test"
   ]
  },
  {
   "cell_type": "markdown",
   "id": "77654c53",
   "metadata": {},
   "source": [
    "#from sklearn.linear_model import LinearRegression\n",
    "rg=LinearRegression()\n",
    "rg.fit(X_train,y_train)\n",
    "y_pred=rg.predict(X_test)\n",
    "y_pred"
   ]
  },
  {
   "cell_type": "code",
   "execution_count": 213,
   "id": "166c9138",
   "metadata": {},
   "outputs": [
    {
     "data": {
      "text/plain": [
       "Text(0, 0.5, 'predicted\\xa0Consumption')"
      ]
     },
     "execution_count": 213,
     "metadata": {},
     "output_type": "execute_result"
    },
    {
     "data": {
      "image/png": "[encoded data removed]",
      "text/plain": [
       "<Figure size 432x288 with 1 Axes>"
      ]
     },
     "metadata": {
      "needs_background": "light"
     },
     "output_type": "display_data"
    }
   ],
   "source": [
    "plt.scatter(y_test,y_pred);\n",
    "plt.xlabel(\"Actual Consumption\")\n",
    "plt.ylabel(\"predicted Consumption\")"
   ]
  },
  {
   "cell_type": "code",
   "execution_count": 214,
   "id": "82bea2a3",
   "metadata": {},
   "outputs": [
    {
     "data": {
      "text/plain": [
       "<AxesSubplot:xlabel='Power_consumption'>"
      ]
     },
     "execution_count": 214,
     "metadata": {},
     "output_type": "execute_result"
    },
    {
     "data": {
      "image/png": "[encoded data removed]",
      "text/plain": [
       "<Figure size 360x360 with 1 Axes>"
      ]
     },
     "metadata": {
      "needs_background": "light"
     },
     "output_type": "display_data"
    }
   ],
   "source": [
    "import seaborn as sns\n",
    "fig=plt.gcf()\n",
    "fig.set_size_inches(5,5)\n",
    "sns.regplot(x=y_test,y=y_pred,ci=None,color='Black',line_kws={'color':'red','lw':2})"
   ]
  },
  {
   "cell_type": "code",
   "execution_count": 220,
   "id": "deb578fc",
   "metadata": {},
   "outputs": [
    {
     "name": "stdout",
     "output_type": "stream",
     "text": [
      " Accuracy of the model is 99.84\n"
     ]
    }
   ],
   "source": [
    "from sklearn.metrics import r2_score\n",
    "Accuracy=r2_score(y_test,y_pred)*100\n",
    "print(\" Accuracy of the model is %.2f\" %Accuracy)"
   ]
  },
  {
   "cell_type": "code",
   "execution_count": null,
   "id": "fa49bc63",
   "metadata": {},
   "outputs": [],
   "source": []
  }
 ],
 "metadata": {
  "kernelspec": {
   "display_name": "Python 3 (ipykernel)",
   "language": "python",
   "name": "python3"
  },
  "language_info": {
   "codemirror_mode": {
    "name": "ipython",
    "version": 3
   },
   "file_extension": ".py",
   "mimetype": "text/x-python",
   "name": "python",
   "nbconvert_exporter": "python",
   "pygments_lexer": "ipython3",
   "version": "3.9.12"
  }
 },
 "nbformat": 4,
 "nbformat_minor": 5
}
